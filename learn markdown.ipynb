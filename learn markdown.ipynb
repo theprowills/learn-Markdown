{
 "cells": [
  {
   "cell_type": "markdown",
   "metadata": {},
   "source": [
    "## Learn Markdown\n",
    "1. [Heading](#1)\n",
    "2. [Text Formating](#2)\n",
    "3. [Block Quotation](#3)\n",
    "4. [Inline & Block Code](#4)\n",
    "5. [List](#5)\n",
    "6. [Link](#6)\n",
    "7. [Image](#7)\n",
    "8. [Table](#8)"
   ]
  },
  {
   "cell_type": "markdown",
   "metadata": {},
   "source": [
    "<a id=\"1\"> </a>\n",
    "\n",
    "## Heading "
   ]
  },
  {
   "cell_type": "markdown",
   "metadata": {},
   "source": [
    "Header 1\n",
    "> # Hello World!\n",
    "> \n",
    "> `# Hello World!`\n",
    "\n",
    "Header 2\n",
    "> ## Hello World!\n",
    ">\n",
    "> `## Hello World!`\n",
    "\n",
    "Header 3\n",
    "> ### Hello World!\n",
    ">\n",
    "> `### Hello World!`\n",
    "\n",
    "Header 4\n",
    "> #### Hello World!\n",
    ">\n",
    "> `#### Hello World!`\n",
    "\n",
    "Header 5\n",
    "> ##### Hello World!\n",
    ">\n",
    "> `##### Hello World!`\n",
    "\n",
    "Header 6\n",
    "> ###### Hello World!\n",
    ">\n",
    "> `###### Hello World!`\n"
   ]
  },
  {
   "cell_type": "markdown",
   "metadata": {},
   "source": [
    "<hr>"
   ]
  },
  {
   "cell_type": "markdown",
   "metadata": {},
   "source": [
    "<a id=\"2\"> </a>\n",
    "## Text Formating"
   ]
  },
  {
   "cell_type": "markdown",
   "metadata": {},
   "source": [
    "### Tulisan **Bold** bisa menggunakan:\n",
    "- 2 Underscore ( __ ), atau <br>\n",
    "    > __Hello World!__ <br>\n",
    "    `__Hello World!__`\n",
    "- 2 Asterisk ( ** ) <br>\n",
    "    > **Hello World!** <br>\n",
    "    `**Hello World!**`"
   ]
  },
  {
   "cell_type": "markdown",
   "metadata": {},
   "source": [
    "### Tulisan *Italic* menggunakan:\n",
    "- 1 Underscore ( _ )\n",
    "    > _Hello World!_ <br>\n",
    "    `Hello World!`\n",
    "- 1 Asterisk ( * )\n",
    "    > *Hello World!* <br>\n",
    "    `*Hello World!*`"
   ]
  },
  {
   "cell_type": "markdown",
   "metadata": {},
   "source": [
    "### Tulisan ~~strikethrough~~ menggunakan:\n",
    "- 2 tidal ( \\~\\~ ) \n",
    "    > ~~Hello World!~~ <br>\n",
    "    `~~Hello World!~~`"
   ]
  },
  {
   "cell_type": "markdown",
   "metadata": {},
   "source": [
    "Note: sintaks *italic*, **Bold**, dan ~~Strikethrough~~ bisa digabung dan tanpa berurutan <br><br>"
   ]
  },
  {
   "cell_type": "markdown",
   "metadata": {},
   "source": [
    "**Contoh**:\n",
    "- Tulisan *Italic* dan **Bold**: <br>\n",
    "    - menggunakan 3 Asterisk ( *** )\n",
    "        > ***Hello World!*** <br>\n",
    "        `***Hello World***`\n",
    "    - menggunakan 1 Asterisk ( * ) dan 2 Underscore ( __ )\n",
    "        > __*Hello World!*__ <br>\n",
    "        `__*Hello World!*__`\n",
    "    - Dsb <br><br>\n",
    "- Tulisan *Italic*, **Bold**, dan ~~Strikethrough~~ <br> \n",
    "   - menggunakan 1 Asterisk ( * ), 2 Underscore( __ ), dan 2 tidals ( ~~ ) <br>\n",
    "    > *__~~Hello World!~~__* <br>\n",
    "    `*__~~Hello World!~~__*`"
   ]
  },
  {
   "cell_type": "markdown",
   "metadata": {},
   "source": [
    "<hr>"
   ]
  },
  {
   "cell_type": "markdown",
   "metadata": {},
   "source": [
    "<a id=\"3\"> </a>\n",
    "## Block Quotation"
   ]
  },
  {
   "cell_type": "markdown",
   "metadata": {},
   "source": [
    "### Single Quotation\n",
    "- Menggunakan simbol lebih dari ( > )\n",
    "    > Hello World 1 <br>\n",
    "    > Hello World 2 \n",
    "   \n",
    "```\n",
    "    > Hello World 1\n",
    "    > Hello World 2\n",
    "```"
   ]
  },
  {
   "cell_type": "markdown",
   "metadata": {},
   "source": [
    "### Nested Quotation\n",
    "- Menambahkan simbol lebih dari ( > ) diantara quotation1 dan quotation2\n",
    "    >>quotation1\n",
    "    >\n",
    "    >>quotation2\n",
    "    \n",
    "```\n",
    "    > > quotation11`\n",
    "    >\n",
    "    > > quotation12\n",
    "```"
   ]
  },
  {
   "cell_type": "markdown",
   "metadata": {},
   "source": [
    "<hr>"
   ]
  },
  {
   "cell_type": "markdown",
   "metadata": {},
   "source": [
    "<a id=\"4\"> </a>\n",
    "## Inline & Block Code"
   ]
  },
  {
   "cell_type": "markdown",
   "metadata": {},
   "source": [
    "### Inline code\n",
    "- menggunakan back tick ( \\` )\n",
    "    > `print(\"Hello World!\")` <br> <br>\n",
    "    > `` print(\"Hello World!\") ``"
   ]
  },
  {
   "cell_type": "markdown",
   "metadata": {},
   "source": [
    "### Block Code\n",
    "- menggunakan 3 backtick ( \\`\\`\\` )\n",
    "    > ```python\n",
    "    > var = 10\n",
    "    > print(var)\n",
    "    > ```\n",
    "    >\n",
    "    > ```\n",
    "    > ```python\n",
    "    > var = 10\n",
    "    > print(var)\n",
    "    > ``` ```"
   ]
  },
  {
   "cell_type": "markdown",
   "metadata": {},
   "source": [
    "<hr>"
   ]
  },
  {
   "cell_type": "markdown",
   "metadata": {},
   "source": [
    "<a id=\"5\"> </a>\n",
    "## List "
   ]
  },
  {
   "cell_type": "markdown",
   "metadata": {},
   "source": [
    "## Ordered List\n",
    "- menggunakan angka ( 1.. )\n",
    "    > 1. Element1\n",
    "    > 2. Element2\n",
    "    > 3. Element3\n",
    "    >\n",
    "    > ```\n",
    "    > 1. Element1\n",
    "    > 2. Element2\n",
    "    > 3. Element3\n",
    "    > ```\n",
    "- bisa menggunakan tidak berurut \n",
    "    > 1. Element1\n",
    "    > 1. Element2\n",
    "    > 10. Element3\n",
    "    >\n",
    "    > ```\n",
    "    > 1. Element1\n",
    "    > 1. Element2\n",
    "    > 10. Element3\n",
    "    > ```"
   ]
  },
  {
   "cell_type": "markdown",
   "metadata": {},
   "source": [
    "<hr>"
   ]
  },
  {
   "cell_type": "markdown",
   "metadata": {},
   "source": [
    "<a id=\"6\"> </a>\n",
    "## Link"
   ]
  },
  {
   "cell_type": "markdown",
   "metadata": {},
   "source": [
    "- menggunakan bracket siku ( [ ] ) dan bracket biasa ( ( ) )\n",
    "    > [Click Here](https://google.com) \n",
    "    >\n",
    "    > `[Click Here](https://google.com)`\n",
    "- menggunakan kutip ( \" ) agar muncul tooltip/infotip\n",
    "    > [Click Here](https://google.com \"Hello Google\") \n",
    "    >\n",
    "    > `[Click Here](https://google.com \"Hello Google\")`"
   ]
  },
  {
   "cell_type": "markdown",
   "metadata": {},
   "source": [
    "<hr>"
   ]
  },
  {
   "cell_type": "markdown",
   "metadata": {},
   "source": [
    "<a id=\"7\"> </a>\n",
    "## Image"
   ]
  },
  {
   "cell_type": "markdown",
   "metadata": {},
   "source": [
    "**Gambar Lokal**\n",
    "- menggunakan tanda seru ( ! ), kurung siku ( [ ] ), dan kurung biasa ( ( ) )\n",
    "    > ![Alternate Text](./google.gif)\n",
    "    > \n",
    "    > `![Alternate Text](./google.gif)`\n",
    "    >\n",
    "    > Note: **Alternate Text** untuk menampilkan tulisan ketika tidak berhasil di-*render*\n",
    "    \n",
    "**Gambar Online**\n",
    "- menggunakan tanda seru ( ! ), kurung siku ( [ ] ), kurung biasa ( ( ) ), dan link di kurung biasa\n",
    "    > ![Alternate Text](https://bit.ly/3iVaChB)\n",
    "    >\n",
    "    > `![Alternate Text](https://bit.ly/3iVaChB)`\n",
    "\n",
    "**Resize Gambar**\n",
    "- menggunakan sintaks HTML \n",
    "    > <img src=\"https://bit.ly/3iVaChB\" alt=\"Alternate Text\" style=\"width:50%\"/>\n",
    "    >\n",
    "    > `<img src=\"https://bit.ly/3iVaChB\" style=\"width:50%\"/>`"
   ]
  },
  {
   "cell_type": "markdown",
   "metadata": {},
   "source": [
    "<hr>"
   ]
  },
  {
   "cell_type": "markdown",
   "metadata": {},
   "source": [
    "<a id=\"8\"> </a>\n",
    "## Table"
   ]
  },
  {
   "cell_type": "markdown",
   "metadata": {},
   "source": [
    "- menggunakan sintaks HTML\n",
    "\n",
    "> <table style=\"width:50%\">\n",
    ">     <tr>\n",
    ">        <th>Nama</th>\n",
    ">        <th>Umur</th>\n",
    ">    </tr>\n",
    ">    <tr>\n",
    ">        <td>Andi</td>\n",
    ">        <td>21</td>\n",
    ">    </tr>\n",
    ">    <tr>\n",
    ">        <td>Budi</td>\n",
    ">        <td>23</td>\n",
    ">    </tr>\n",
    "> </table>\n",
    ">\n",
    "> <br> <br>\n",
    ">\n",
    "> ```\n",
    "> <table style=\"width:50%\">\n",
    ">     <tr>\n",
    ">        <th>Nama</th>\n",
    ">        <th>Umur</th>\n",
    ">    </tr>\n",
    ">    <tr>\n",
    ">        <td>Andi</td>\n",
    ">        <td>21</td>\n",
    ">    </tr>\n",
    ">    <tr>\n",
    ">        <td>Budi</td>\n",
    ">        <td>23</td>\n",
    ">    </tr>\n",
    "> </table>\n",
    "> ```\n",
    "\n",
    "\n",
    "- menggunakan sintaks Markdown\n",
    "\n",
    "> | Syntax | Description |\n",
    "> | :---: | -----------: |\n",
    "> | Header | Title |\n",
    "> | Paragraph | Text |\n",
    ">\n",
    "> ```\n",
    "> | Syntax | Description |\n",
    "> | :---: | -----------: |\n",
    "> | Header | Title |\n",
    "> | Paragraph | Text | \n",
    "> ```\n",
    "\n"
   ]
  }
 ],
 "metadata": {
  "kernelspec": {
   "display_name": "Python 3",
   "language": "python",
   "name": "python3"
  },
  "language_info": {
   "codemirror_mode": {
    "name": "ipython",
    "version": 3
   },
   "file_extension": ".py",
   "mimetype": "text/x-python",
   "name": "python",
   "nbconvert_exporter": "python",
   "pygments_lexer": "ipython3",
   "version": "3.8.2"
  }
 },
 "nbformat": 4,
 "nbformat_minor": 4
}
